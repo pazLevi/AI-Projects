{
 "cells": [
  {
   "cell_type": "code",
   "execution_count": 1,
   "id": "008eabf9",
   "metadata": {},
   "outputs": [],
   "source": [
    "import pandas as pd"
   ]
  },
  {
   "cell_type": "code",
   "execution_count": 22,
   "id": "c81f77e4",
   "metadata": {},
   "outputs": [],
   "source": [
    "# df = pd.read_json('data.json')"
   ]
  },
  {
   "cell_type": "code",
   "execution_count": 3,
   "id": "1306e813",
   "metadata": {},
   "outputs": [],
   "source": [
    "df = pd.DataFrame(columns=['New link','Original link','Counter'])\n",
    "# df.to_json('data.json')\n",
    "# df"
   ]
  },
  {
   "cell_type": "code",
   "execution_count": 43,
   "id": "37c02581",
   "metadata": {},
   "outputs": [],
   "source": [
    "df = pd.read_json('data.json').set_index('New link')"
   ]
  },
  {
   "cell_type": "code",
   "execution_count": 4,
   "id": "6532e891",
   "metadata": {},
   "outputs": [],
   "source": [
    "df = df.append({'New link':'rrr','Original link':5,'Counter':4},ignore_index=True).dropna()"
   ]
  },
  {
   "cell_type": "code",
   "execution_count": 11,
   "id": "d246029a",
   "metadata": {},
   "outputs": [],
   "source": [
    "df = df.set_index('New link')"
   ]
  },
  {
   "cell_type": "code",
   "execution_count": 20,
   "id": "74503ae7",
   "metadata": {},
   "outputs": [
    {
     "data": {
      "text/plain": [
       "5.0"
      ]
     },
     "execution_count": 20,
     "metadata": {},
     "output_type": "execute_result"
    }
   ],
   "source": [
    "df.loc['rrr']['Original link']"
   ]
  },
  {
   "cell_type": "code",
   "execution_count": 5,
   "id": "5776eaaf",
   "metadata": {},
   "outputs": [
    {
     "data": {
      "text/html": [
       "<div>\n",
       "<style scoped>\n",
       "    .dataframe tbody tr th:only-of-type {\n",
       "        vertical-align: middle;\n",
       "    }\n",
       "\n",
       "    .dataframe tbody tr th {\n",
       "        vertical-align: top;\n",
       "    }\n",
       "\n",
       "    .dataframe thead th {\n",
       "        text-align: right;\n",
       "    }\n",
       "</style>\n",
       "<table border=\"1\" class=\"dataframe\">\n",
       "  <thead>\n",
       "    <tr style=\"text-align: right;\">\n",
       "      <th></th>\n",
       "      <th>New link</th>\n",
       "      <th>Original link</th>\n",
       "      <th>Counter</th>\n",
       "    </tr>\n",
       "  </thead>\n",
       "  <tbody>\n",
       "    <tr>\n",
       "      <th>0</th>\n",
       "      <td>rrr</td>\n",
       "      <td>5</td>\n",
       "      <td>4</td>\n",
       "    </tr>\n",
       "  </tbody>\n",
       "</table>\n",
       "</div>"
      ],
      "text/plain": [
       "  New link Original link Counter\n",
       "0      rrr             5       4"
      ]
     },
     "execution_count": 5,
     "metadata": {},
     "output_type": "execute_result"
    }
   ],
   "source": [
    "df"
   ]
  },
  {
   "cell_type": "code",
   "execution_count": 8,
   "id": "7e723d22",
   "metadata": {},
   "outputs": [],
   "source": [
    "df.to_json('data.json')"
   ]
  },
  {
   "cell_type": "code",
   "execution_count": 7,
   "id": "5206841a",
   "metadata": {},
   "outputs": [],
   "source": [
    "df = df.append({'New link':'sgfsdfgsd','Original link':3,'Counter':0},ignore_index=True)"
   ]
  },
  {
   "cell_type": "code",
   "execution_count": 12,
   "id": "95b52163",
   "metadata": {},
   "outputs": [],
   "source": [
    "df = pd.read_json('data.json').set_index('New link')"
   ]
  },
  {
   "cell_type": "code",
   "execution_count": 13,
   "id": "ab012ba2",
   "metadata": {},
   "outputs": [
    {
     "data": {
      "text/plain": [
       "Original link    5\n",
       "Counter          4\n",
       "Name: rrr, dtype: int64"
      ]
     },
     "execution_count": 13,
     "metadata": {},
     "output_type": "execute_result"
    }
   ],
   "source": [
    "df.loc['rrr']"
   ]
  },
  {
   "cell_type": "code",
   "execution_count": null,
   "id": "030d169b",
   "metadata": {},
   "outputs": [],
   "source": []
  }
 ],
 "metadata": {
  "kernelspec": {
   "display_name": "Python 3",
   "language": "python",
   "name": "python3"
  },
  "language_info": {
   "codemirror_mode": {
    "name": "ipython",
    "version": 3
   },
   "file_extension": ".py",
   "mimetype": "text/x-python",
   "name": "python",
   "nbconvert_exporter": "python",
   "pygments_lexer": "ipython3",
   "version": "3.9.4"
  }
 },
 "nbformat": 4,
 "nbformat_minor": 5
}
